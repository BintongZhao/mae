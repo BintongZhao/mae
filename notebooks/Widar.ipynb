{
 "cells": [
  {
   "cell_type": "code",
   "execution_count": 1,
   "id": "07d3374b-f04e-4bd7-a977-a0d7d6533928",
   "metadata": {},
   "outputs": [],
   "source": [
    "import os\n",
    "import numpy as np\n",
    "import scipy\n",
    "import torch\n",
    "from torch.utils.data import Dataset"
   ]
  },
  {
   "cell_type": "code",
   "execution_count": 2,
   "id": "ba98531d-068a-47ba-81ab-35ab9cfa5442",
   "metadata": {},
   "outputs": [],
   "source": [
    "class Widar(Dataset):\n",
    "    def __init__(self, root_path, num_classes, scene_names=['Room1'], transform=None):\n",
    "        self.root_path = root_path\n",
    "        self.num_classes = num_classes\n",
    "        self.transform = transform\n",
    "        self.scene_names = scene_names or ['Room1', 'Room2', 'Room3']\n",
    "        self.scene_date_mapping = {\n",
    "            'Room1': ['20181109', '20181112', '20181115', '20181116', '20181121', '20181130'],\n",
    "            'Room2': ['20181117', '20181118', '20181127', '20181128', '20181204', '20181205', '20181208', '20181209'],\n",
    "            'Room3': ['20181211']\n",
    "        }\n",
    "\n",
    "        self.filepaths = self.get_all_filepaths()\n",
    "\n",
    "    def __len__(self):\n",
    "        return len(self.filepaths) // 240\n",
    "\n",
    "    def __getitem__(self, idx):\n",
    "        spectra, label = self.get_item(idx * 240)\n",
    "        \n",
    "        if self.transform:\n",
    "            spectra = self.transform(spectra)\n",
    "        label = self.to_one_hot(label)\n",
    "        \n",
    "        return spectra, label\n",
    "\n",
    "    def to_one_hot(self, label):\n",
    "        one_hot = torch.zeros(self.num_classes, dtype=torch.float32)\n",
    "        one_hot[int(label)] = 1.0\n",
    "        return one_hot\n",
    "\n",
    "    def get_filepaths(self, root_path):\n",
    "        filepaths = []\n",
    "        for dirpath, _, filenames in os.walk(root_path):\n",
    "            for filename in filenames:\n",
    "                if filename.endswith('.mat'):\n",
    "                    filepaths.append(os.path.join(dirpath, filename))\n",
    "        return filepaths\n",
    "\n",
    "    def get_all_filepaths(self):\n",
    "        filepaths = []\n",
    "        for scene_name in self.scene_names:\n",
    "            for date in self.scene_date_mapping[scene_name]:\n",
    "                root_path = os.path.join(self.root_path, 'AOA-TOF', date)\n",
    "                filepaths.extend(self.get_filepaths(root_path))\n",
    "        return filepaths\n",
    "        \n",
    "    def read_mat(self, filename):\n",
    "        spectrum = scipy.io.loadmat(filename)['Pmusic'].astype(np.float32)\n",
    "        return np.expand_dims(spectrum, axis=0)\n",
    "\n",
    "    def get_label_by_filepath(self, filepath):\n",
    "        filename = os.path.basename(filepath)\n",
    "        return filename.split('_')[1]\n",
    "\n",
    "    def get_item(self, index):\n",
    "        spectra = np.vstack([self.read_mat(filepath) for filepath in self.filepaths[index:index+240]])\n",
    "        label = self.get_label_by_filepath(self.filepaths[index])\n",
    "        return spectra, label"
   ]
  },
  {
   "cell_type": "code",
   "execution_count": null,
   "id": "1e9bcf84-0ad8-4cc3-a738-c076cfd20455",
   "metadata": {},
   "outputs": [],
   "source": []
  }
 ],
 "metadata": {
  "kernelspec": {
   "display_name": "Python 3 (ipykernel)",
   "language": "python",
   "name": "python3"
  },
  "language_info": {
   "codemirror_mode": {
    "name": "ipython",
    "version": 3
   },
   "file_extension": ".py",
   "mimetype": "text/x-python",
   "name": "python",
   "nbconvert_exporter": "python",
   "pygments_lexer": "ipython3",
   "version": "3.8.20"
  }
 },
 "nbformat": 4,
 "nbformat_minor": 5
}

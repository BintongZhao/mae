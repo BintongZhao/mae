{
 "cells": [
  {
   "cell_type": "code",
   "execution_count": 1,
   "id": "c42a3d60-d0ca-43e5-b4cb-8e84f336ed64",
   "metadata": {},
   "outputs": [],
   "source": [
    "import os\n",
    "import re\n",
    "import numpy as np\n",
    "import scipy\n",
    "import torch\n",
    "from torch.utils.data import Dataset"
   ]
  },
  {
   "cell_type": "code",
   "execution_count": 2,
   "id": "3b77915d-3e96-45f5-820b-2d2962a7127c",
   "metadata": {},
   "outputs": [],
   "source": [
    "import os\n",
    "import re\n",
    "import numpy as np\n",
    "import scipy\n",
    "import torch\n",
    "from torch.utils.data import Dataset\n",
    "\n",
    "\n",
    "class MMFI(Dataset):\n",
    "    def __init__(self, root_path, transform=None):\n",
    "        self.root_path = root_path\n",
    "        self.spectrum_path = os.path.join(self.root_path, 'AOA_TOF')\n",
    "        self.pose_path = os.path.join(self.root_path, 'POSE')\n",
    "        self.transform = transform\n",
    "\n",
    "        self.filepaths = self.get_filepaths()\n",
    "\n",
    "    def __len__(self):\n",
    "        return len(self.filepaths)\n",
    "\n",
    "    def __getitem__(self, idx):\n",
    "        spectrum_filepath = self.filepaths[idx]\n",
    "        spectrum, pose = self.read_mat(spectrum_filepath), self.get_pose_by_filepath(spectrum_filepath)\n",
    "\n",
    "        if self.transform:\n",
    "            spectrum = self.transform(spectrum)\n",
    "        pose = torch.tensor(pose, dtype=torch.float32)\n",
    "\n",
    "        return spectrum, pose\n",
    "\n",
    "    def get_filepaths(self):\n",
    "        filepaths = []\n",
    "        for dirpath, _, filenames in os.walk(self.spectrum_path):\n",
    "            for filename in filenames:\n",
    "                if filename.endswith('.mat'):\n",
    "                    filepaths.append(os.path.join(dirpath, filename))\n",
    "        return filepaths\n",
    "\n",
    "    def read_mat(self, filename):\n",
    "        spectrum = scipy.io.loadmat(filename)['Pmusic'].astype(np.float32)\n",
    "        return np.expand_dims(spectrum, axis=0)\n",
    "\n",
    "    def get_pose_by_filepath(self, filepath):\n",
    "        match = re.search(r\"(E\\d+).*(S\\d+).*(A\\d+)\", filepath)\n",
    "        filename = f'{match.group(1)}-{match.group(2)}-{match.group(3)}.npy'\n",
    "        pose_filepath = os.path.join(self.pose_path, filename)\n",
    "        return np.load(pose_filepath).astype(np.float32)"
   ]
  },
  {
   "cell_type": "code",
   "execution_count": null,
   "id": "17ca99c8-2b55-4d6d-a255-fe0fbd51be36",
   "metadata": {},
   "outputs": [],
   "source": []
  }
 ],
 "metadata": {
  "kernelspec": {
   "display_name": "Python 3 (ipykernel)",
   "language": "python",
   "name": "python3"
  },
  "language_info": {
   "codemirror_mode": {
    "name": "ipython",
    "version": 3
   },
   "file_extension": ".py",
   "mimetype": "text/x-python",
   "name": "python",
   "nbconvert_exporter": "python",
   "pygments_lexer": "ipython3",
   "version": "3.8.20"
  }
 },
 "nbformat": 4,
 "nbformat_minor": 5
}

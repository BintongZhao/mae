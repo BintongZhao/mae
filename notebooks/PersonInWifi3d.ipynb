{
 "cells": [
  {
   "cell_type": "code",
   "execution_count": 1,
   "id": "00769e8a-72fb-4012-a54b-e25d0a05e0b3",
   "metadata": {},
   "outputs": [],
   "source": [
    "import os\n",
    "import re\n",
    "import numpy as np\n",
    "import scipy\n",
    "import torch\n",
    "from torch.utils.data import Dataset"
   ]
  },
  {
   "cell_type": "code",
   "execution_count": 2,
   "id": "7ef34602-99ba-4764-8cb1-e0b994d56d4b",
   "metadata": {},
   "outputs": [],
   "source": [
    "class PersonInWifi3d(Dataset):\n",
    "    def __init__(self, root_path, transform=None):\n",
    "        self.root_path = root_path\n",
    "        self.transform = transform\n",
    "\n",
    "        self.filepaths = self.get_filepaths()\n",
    "\n",
    "    def __len__(self):\n",
    "        return len(self.filepaths) // 3\n",
    "\n",
    "    def __getitem__(self, idx):\n",
    "        spectra, pose = self.get_item(idx * 3)\n",
    "\n",
    "        if self.transform:\n",
    "            spectra = self.transform(spectra)\n",
    "        pose = torch.tensor(pose, dtype=torch.float32)\n",
    "\n",
    "        return spectra, pose\n",
    "\n",
    "    def get_filepaths(self):\n",
    "        filepaths = []\n",
    "        for dirpath, _, filenames in os.walk(os.path.join(self.root_path, 'AOA-TOF')):\n",
    "            for filename in filenames:\n",
    "                if filename.endswith('.mat'):\n",
    "                    filepaths.append(os.path.join(dirpath, filename))\n",
    "        return filepaths\n",
    "\n",
    "    def read_mat(self, filename):\n",
    "        spectrum = scipy.io.loadmat(filename)['Pmusic'].astype(np.float32)\n",
    "        return np.expand_dims(spectrum, axis=0)\n",
    "\n",
    "    def get_pose_by_filepath(self, filepath):\n",
    "        parent_path, filename = os.path.split(filepath.replace('AOA-TOF', 'POSE'))\n",
    "        pose_filepath = os.path.join(parent_path, f'{filename[:-7]}.npy')\n",
    "        return np.load(pose_filepath).astype(np.float32)\n",
    "\n",
    "    def get_item(self, index):\n",
    "        spectra = np.vstack([self.read_mat(filepath) for filepath in self.filepaths[index:index + 3]])\n",
    "        pose = self.get_pose_by_filepath(self.filepaths[index])\n",
    "        return spectra, pose"
   ]
  },
  {
   "cell_type": "code",
   "execution_count": null,
   "id": "e8a76412-0c06-4e87-a79f-43677dbfbe3d",
   "metadata": {},
   "outputs": [],
   "source": []
  }
 ],
 "metadata": {
  "kernelspec": {
   "display_name": "Python 3 (ipykernel)",
   "language": "python",
   "name": "python3"
  },
  "language_info": {
   "codemirror_mode": {
    "name": "ipython",
    "version": 3
   },
   "file_extension": ".py",
   "mimetype": "text/x-python",
   "name": "python",
   "nbconvert_exporter": "python",
   "pygments_lexer": "ipython3",
   "version": "3.8.20"
  }
 },
 "nbformat": 4,
 "nbformat_minor": 5
}
